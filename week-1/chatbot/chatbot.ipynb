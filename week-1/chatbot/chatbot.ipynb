{
 "cells": [
  {
   "cell_type": "code",
   "execution_count": 3,
   "id": "0bc3c039",
   "metadata": {},
   "outputs": [
    {
     "name": "stderr",
     "output_type": "stream",
     "text": [
      "/home/hp/AI-Agents/.venv/lib/python3.12/site-packages/tqdm/auto.py:21: TqdmWarning: IProgress not found. Please update jupyter and ipywidgets. See https://ipywidgets.readthedocs.io/en/stable/user_install.html\n",
      "  from .autonotebook import tqdm as notebook_tqdm\n"
     ]
    }
   ],
   "source": [
    "from dotenv import load_dotenv\n",
    "from openai import OpenAI\n",
    "from PyPDF2 import PdfReader\n",
    "import gradio as gr\n",
    "import os\n",
    "import json"
   ]
  },
  {
   "cell_type": "code",
   "execution_count": 4,
   "id": "e7195fcc",
   "metadata": {},
   "outputs": [],
   "source": [
    "load_dotenv()\n",
    "openai = OpenAI()\n",
    "openai_api_key = os.getenv(\"OPENAI_API_KEY\")"
   ]
  },
  {
   "cell_type": "code",
   "execution_count": 5,
   "id": "580179d5",
   "metadata": {},
   "outputs": [],
   "source": [
    "reader = PdfReader(\"Ahmed-Saber-CV.pdf\")\n",
    "data = \"\"\n",
    "for page in reader.pages:\n",
    "    text = page.extract_text()\n",
    "    if text:\n",
    "        data += text\n",
    "\n",
    "reader = PdfReader(\"GitHub skills extraction.pdf\")\n",
    "github_skills = \"github skills:\\n\"\n",
    "for page in reader.pages:\n",
    "    text = page.extract_text()\n",
    "    if text:\n",
    "        github_skills += text"
   ]
  },
  {
   "cell_type": "code",
   "execution_count": 10,
   "id": "8e377e13",
   "metadata": {},
   "outputs": [],
   "source": [
    "name = \"Ahmed Saber\""
   ]
  },
  {
   "cell_type": "code",
   "execution_count": 11,
   "id": "02ac5637",
   "metadata": {},
   "outputs": [],
   "source": [
    "system_prompt = f\"You are acting as {name}. You are answering questions on {name}'s website, \\\n",
    "particularly questions related to {name}'s career, background, skills and experience. \\\n",
    "Your responsibility is to represent {name} for interactions on the website as faithfully as possible. \\\n",
    "You are given a summary of {name}'s background and github repositories content and projects which you can use to answer questions. \\\n",
    "Be professional and engaging, as if talking to a potential client or future employer who came across the website. \\\n",
    "If you don't know the answer, say so.\"\n",
    "\n",
    "system_prompt += f\"\\n\\n## Summary:\\n{data}\\n\\n## github:\\n{github_skills}\\n\\n\"\n",
    "system_prompt += f\"With this context, please chat with the user, always staying in character as {name}.\"\n"
   ]
  },
  {
   "cell_type": "code",
   "execution_count": 12,
   "id": "94e0b77e",
   "metadata": {},
   "outputs": [],
   "source": [
    "def chat(message , history):\n",
    "    messages = [{\"role\": \"system\" , \"content\": system_prompt}] + history + [{\"role\": \"user\", \"content\": message}]\n",
    "    response = openai.chat.completions.create(model=\"gpt-4o-mini\", messages=messages)\n",
    "    return response.choices[0].message.content"
   ]
  },
  {
   "cell_type": "code",
   "execution_count": null,
   "id": "d5a545ed",
   "metadata": {},
   "outputs": [],
   "source": [
    "gr.ChatInterface(chat , type=\"messages\").launch()"
   ]
  },
  {
   "cell_type": "code",
   "execution_count": 13,
   "id": "d22f449b",
   "metadata": {},
   "outputs": [],
   "source": [
    "from pydantic import BaseModel\n",
    "\n",
    "class Evaluation(BaseModel):\n",
    "    is_acceptable : bool\n",
    "    feedback: str"
   ]
  },
  {
   "cell_type": "code",
   "execution_count": null,
   "id": "35bf89d1",
   "metadata": {},
   "outputs": [],
   "source": [
    "evaluator_system_prompt = f\"You are an evaluator that decides whether a response to a question is acceptable. \\\n",
    "You are provided with a conversation between a User and an Agent. Your task is to decide whether the Agent's latest response is acceptable quality. \\\n",
    "The Agent is playing the role of {name} and is representing {name} on their website. \\\n",
    "The Agent has been instructed to be professional and engaging, as if talking to a potential client or future employer who came across the website. \\\n",
    "The Agent has been provided with context on {name} in the form of their summary and LinkedIn details. Here's the information:\"\n",
    "\n",
    "evaluator_system_prompt += f\"\\n\\n## Data:\\n{data}\\n\\n## Github:\\n{github_skills}\\n\\n\"\n",
    "evaluator_system_prompt += f\"With this context, please evaluate the latest response, replying with whether the response is acceptable and your feedback.\"\n",
    "evaluator_system_prompt += \"With this context, make sure that the response always sound humble and simple and professional using adjective that represent me as a hard worker person and love to discover new things dont let the response has a sound like and expert did you understand ?\"\n",
    "# Strict JSON response requirement for machine parsing\n",
    "_evaluator_json_instruction = (\n",
    "    \"Respond ONLY with a valid JSON object on a single line with keys \"\n",
    "    \"'is_acceptable' (boolean) and 'feedback' (string). No markdown, no code fences, no extra text.\"\n",
    ")\n",
    "evaluator_system_prompt += \"\\n\\n\" + _evaluator_json_instruction\n",
    "\n",
    "print(evaluator_system_prompt)"
   ]
  },
  {
   "cell_type": "code",
   "execution_count": 23,
   "id": "6ccba307",
   "metadata": {},
   "outputs": [],
   "source": [
    "def evaluate_user_prompt(reply , message , history):\n",
    "    user_prompt = f\"Here is the conversation between the User and the Agent: \\n\\n{history}\"\n",
    "    user_prompt += f\"Here's the latest message from the User: \\n\\n{message}\\n\\n\"\n",
    "    user_prompt += f\"Here's the latest response from the Agent: \\n\\n{reply}\\n\\n\"\n",
    "    user_prompt += \"Please evaluate the response, replying with whether it is acceptable and your feedback.\"\n",
    "    return user_prompt"
   ]
  },
  {
   "cell_type": "code",
   "execution_count": 37,
   "id": "78d11429",
   "metadata": {},
   "outputs": [
    {
     "name": "stdout",
     "output_type": "stream",
     "text": [
      "\u001b[?2026h\u001b[?25l\u001b[1Gpulling manifest ⠋ \u001b[K\u001b[?25h\u001b[?2026l\u001b[?2026h\u001b[?25l\u001b[1Gpulling manifest ⠙ \u001b[K\u001b[?25h\u001b[?2026l\u001b[?2026h\u001b[?25l\u001b[1Gpulling manifest ⠹ \u001b[K\u001b[?25h\u001b[?2026l\u001b[?2026h\u001b[?25l\u001b[1Gpulling manifest ⠸ \u001b[K\u001b[?25h\u001b[?2026l\u001b[?2026h\u001b[?25l\u001b[1Gpulling manifest ⠼ \u001b[K\u001b[?25h\u001b[?2026l\u001b[?2026h\u001b[?25l\u001b[1Gpulling manifest ⠴ \u001b[K\u001b[?25h\u001b[?2026l\u001b[?2026h\u001b[?25l\u001b[1Gpulling manifest ⠦ \u001b[K\u001b[?25h\u001b[?2026l\u001b[?2026h\u001b[?25l\u001b[1Gpulling manifest \u001b[K\n",
      "pulling dde5aa3fc5ff: 100% ▕██████████████████▏ 2.0 GB                         \u001b[K\n",
      "pulling 966de95ca8a6: 100% ▕██████████████████▏ 1.4 KB                         \u001b[K\n",
      "pulling fcc5a6bec9da: 100% ▕██████████████████▏ 7.7 KB                         \u001b[K\n",
      "pulling a70ff7e570d9: 100% ▕██████████████████▏ 6.0 KB                         \u001b[K\n",
      "pulling 56bb8bd477a5: 100% ▕██████████████████▏   96 B                         \u001b[K\n",
      "pulling 34bb5ab01051: 100% ▕██████████████████▏  561 B                         \u001b[K\n",
      "verifying sha256 digest \u001b[K\n",
      "writing manifest \u001b[K\n",
      "success \u001b[K\u001b[?25h\u001b[?2026l\n"
     ]
    }
   ],
   "source": [
    "!ollama pull llama3.2"
   ]
  },
  {
   "cell_type": "code",
   "execution_count": 38,
   "id": "2f91861b",
   "metadata": {},
   "outputs": [],
   "source": [
    "ollama = OpenAI(base_url=\"http://localhost:11434/v1\", api_key='ollama')\n",
    "model_name = \"llama3.2\"\n"
   ]
  },
  {
   "cell_type": "code",
   "execution_count": 16,
   "id": "8a4537bd",
   "metadata": {},
   "outputs": [],
   "source": [
    "def evaluate(reply , message , history) -> Evaluation:\n",
    "    messages = [\n",
    "        {\"role\": \"system\", \"content\": evaluator_system_prompt},\n",
    "        {\"role\": \"user\", \"content\": evaluate_user_prompt(reply, message, history)},\n",
    "    ]\n",
    "    response = openai.chat.completions.create(model=\"gpt-4o-mini\", messages=messages)\n",
    "    text = response.choices[0].message.content\n",
    "    try:\n",
    "        data = json.loads(text)\n",
    "        return Evaluation.model_validate(data)\n",
    "    except Exception:\n",
    "        # Fallback: treat raw text as feedback and mark as not acceptable\n",
    "        return Evaluation(is_acceptable=False, feedback=text)"
   ]
  },
  {
   "cell_type": "code",
   "execution_count": 17,
   "id": "fc7c98e1",
   "metadata": {},
   "outputs": [],
   "source": [
    "def rerun(reply, message , history, feedback):\n",
    "    updated_system_prompt = system_prompt + \"\\n\\n## Previous answer rejected\\nYou just tried to reply, but the quality control rejected your reply\\n\"\n",
    "    updated_system_prompt += f\"## Your attempted answer:\\n{reply}\\n\\n\"\n",
    "    updated_system_prompt += f\"## Reason for rejection:\\n{feedback}\\n\\n\"\n",
    "    messages = [{\"role\": \"system\", \"content\": updated_system_prompt}] + history + [{\"role\": \"user\", \"content\": message}]\n",
    "    response = openai.chat.completions.create(model=\"gpt-4o-mini\", messages=messages)\n",
    "    return response.choices[0].message.content"
   ]
  },
  {
   "cell_type": "code",
   "execution_count": null,
   "id": "b5325a8b",
   "metadata": {},
   "outputs": [],
   "source": [
    "def chat(message, history):\n",
    "    system = system_prompt\n",
    "    messages = [{\"role\": \"system\", \"content\": system}] + history + [{\"role\": \"user\", \"content\": message}]\n",
    "    response = openai.chat.completions.create(model=\"gpt-4o-mini\", messages=messages)\n",
    "    reply = response.choices[0].message.content\n",
    "\n",
    "    evaluation = evaluate(|reply, message, history)\n",
    "    print(evaluation)\n",
    "    if evaluation.is_acceptable:\n",
    "        print(\"Passed evaluation - returning reply\")\n",
    "    else:\n",
    "        print(\"Failed evaluation - retrying\")\n",
    "        print(evaluation.feedback)\n",
    "        reply = rerun(reply, message, history, evaluation.feedback)\n",
    "    return reply"
   ]
  },
  {
   "cell_type": "code",
   "execution_count": null,
   "id": "87d2802f",
   "metadata": {},
   "outputs": [
    {
     "name": "stdout",
     "output_type": "stream",
     "text": [
      "* Running on local URL:  http://127.0.0.1:7861\n",
      "* To create a public link, set `share=True` in `launch()`.\n"
     ]
    },
    {
     "data": {
      "text/html": [
       "<div><iframe src=\"http://127.0.0.1:7861/\" width=\"100%\" height=\"500\" allow=\"autoplay; camera; microphone; clipboard-read; clipboard-write;\" frameborder=\"0\" allowfullscreen></iframe></div>"
      ],
      "text/plain": [
       "<IPython.core.display.HTML object>"
      ]
     },
     "metadata": {},
     "output_type": "display_data"
    },
    {
     "data": {
      "text/plain": []
     },
     "execution_count": 24,
     "metadata": {},
     "output_type": "execute_result"
    },
    {
     "name": "stdout",
     "output_type": "stream",
     "text": [
      "is_acceptable=True feedback='The response is well-structured and effectively communicates the technical skills of Ahmed Saber. It maintains a professional tone while providing detailed information about his expertise. However, simplifying the language slightly and emphasizing humility, such as mentioning a willingness to learn and collaborate, would enhance the engagement without coming across as overly expert. Overall, it is a solid and acceptable response.'\n",
      "Passed evaluation - returning reply\n",
      "is_acceptable=False feedback='The response is informative and highlights achievements, but it could come across as overly confident. It should reflect more humility and a focus on a love for learning and exploration rather than expertise. Consider simplifying the language and expressing how these experiences are part of a continuous journey of growth and discovery.'\n",
      "Failed evaluation - retrying\n",
      "The response is informative and highlights achievements, but it could come across as overly confident. It should reflect more humility and a focus on a love for learning and exploration rather than expertise. Consider simplifying the language and expressing how these experiences are part of a continuous journey of growth and discovery.\n"
     ]
    }
   ],
   "source": [
    "gr.ChatInterface(chat, type=\"messages\").launch()"
   ]
  },
  {
   "cell_type": "code",
   "execution_count": null,
   "id": "11bd7989",
   "metadata": {},
   "outputs": [],
   "source": []
  }
 ],
 "metadata": {
  "kernelspec": {
   "display_name": ".venv",
   "language": "python",
   "name": "python3"
  },
  "language_info": {
   "codemirror_mode": {
    "name": "ipython",
    "version": 3
   },
   "file_extension": ".py",
   "mimetype": "text/x-python",
   "name": "python",
   "nbconvert_exporter": "python",
   "pygments_lexer": "ipython3",
   "version": "3.12.12"
  }
 },
 "nbformat": 4,
 "nbformat_minor": 5
}
